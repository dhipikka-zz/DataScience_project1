{
 "cells": [
  {
   "cell_type": "markdown",
   "id": "d8604d3f-912a-4a21-b790-813ccb5f733e",
   "metadata": {
    "tags": []
   },
   "source": [
    "<H1>Data Science Tools and Ecosystem</H1>"
   ]
  },
  {
   "cell_type": "markdown",
   "id": "943f6608-69ad-474f-a97a-1c954beadf09",
   "metadata": {},
   "source": [
    "In this notebook, Data Science Tools and Ecosystem are summarized."
   ]
  },
  {
   "cell_type": "markdown",
   "id": "bcd92269-8f60-4688-8073-f4df7a556887",
   "metadata": {},
   "source": [
    "Some of the popular languages that Data Scientists use are:\n",
    "<ol><li>Python</li>\n",
    "<li>R</li>\n",
    "<li>SQL</li></ol>"
   ]
  },
  {
   "cell_type": "markdown",
   "id": "e7cde566-5e5f-464d-9684-3ca06509c0c9",
   "metadata": {},
   "source": [
    "Some of the commonly used libraries used by Data Scientists include:\n",
    "<li>Matplotlib</li>\n",
    "<li>Pandas</li>\n",
    "<li>Scipy</li>"
   ]
  },
  {
   "cell_type": "markdown",
   "id": "2db6fa59-6371-414f-bf93-d2cd782d109c",
   "metadata": {},
   "source": [
    "<table><th>Data Science Tools</th><tr><td>Apache Spark</td></tr><tr><td>Apache Hadoop</td></tr><tr><td>Pandas</td></tr></table>"
   ]
  },
  {
   "cell_type": "markdown",
   "id": "e7524325-8c1e-4537-bdfe-45ec89b54f5e",
   "metadata": {},
   "source": [
    "<H3>Below are a few examples of evaluating arithmetic expressions in Python</H3>"
   ]
  },
  {
   "cell_type": "code",
   "execution_count": 5,
   "id": "1f9ff69d-7715-46e3-8c80-983b701aadad",
   "metadata": {
    "tags": []
   },
   "outputs": [
    {
     "data": {
      "text/plain": [
       "17"
      ]
     },
     "execution_count": 5,
     "metadata": {},
     "output_type": "execute_result"
    }
   ],
   "source": [
    "#This a simple arithmetic expression to mutiply then add integers\n",
    "(3*4)+5"
   ]
  },
  {
   "cell_type": "code",
   "execution_count": 7,
   "id": "a4471bdb-d3da-4815-ac12-356bc33d810a",
   "metadata": {
    "tags": []
   },
   "outputs": [
    {
     "data": {
      "text/plain": [
       "3.3333333333333335"
      ]
     },
     "execution_count": 7,
     "metadata": {},
     "output_type": "execute_result"
    }
   ],
   "source": [
    "#This will convert 200 minutes to hours by diving by 60.\n",
    "(200/60)"
   ]
  },
  {
   "cell_type": "markdown",
   "id": "f4da3566-bbcd-40ed-a623-fa272ef3a882",
   "metadata": {
    "jupyter": {
     "source_hidden": true
    },
    "tags": []
   },
   "source": [
    "<B>Objectives:</B>\n",
    "List popular languages for Data Science\n",
    "<ul>\n",
    "    <li>Python</li>\n",
    "    <li>SQL</li>\n",
    "    <li>R</li>\n",
    "    <li>Javascript</li>\n",
    "    <li>Julia</li>\n",
    "</ul>"
   ]
  },
  {
   "cell_type": "markdown",
   "id": "ae03bca4-d855-4261-97fb-e4031d1e0506",
   "metadata": {
    "tags": []
   },
   "source": [
    "<H2>Author</H2>\n",
    "Deepika Dwarakanath"
   ]
  },
  {
   "cell_type": "markdown",
   "id": "ccef2103-d13b-458f-923f-a51629e9f065",
   "metadata": {},
   "source": []
  }
 ],
 "metadata": {
  "kernelspec": {
   "display_name": "Python",
   "language": "python",
   "name": "conda-env-python-py"
  },
  "language_info": {
   "codemirror_mode": {
    "name": "ipython",
    "version": 3
   },
   "file_extension": ".py",
   "mimetype": "text/x-python",
   "name": "python",
   "nbconvert_exporter": "python",
   "pygments_lexer": "ipython3",
   "version": "3.7.12"
  }
 },
 "nbformat": 4,
 "nbformat_minor": 5
}
